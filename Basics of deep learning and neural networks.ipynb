{
 "cells": [
  {
   "cell_type": "markdown",
   "id": "attractive-pottery",
   "metadata": {},
   "source": [
    "# Forward Propagation"
   ]
  },
  {
   "cell_type": "code",
   "execution_count": 1,
   "id": "handled-blogger",
   "metadata": {},
   "outputs": [],
   "source": [
    "import numpy as np"
   ]
  },
  {
   "cell_type": "code",
   "execution_count": 4,
   "id": "resident-mining",
   "metadata": {},
   "outputs": [],
   "source": [
    "input_data = np.array([2, 3])\n",
    "\n",
    "weights = {'node_0':np.array([1,1]),\n",
    "          'node_1':np.array([-1,1]),\n",
    "          'output':np.array([2,-1])}"
   ]
  },
  {
   "cell_type": "code",
   "execution_count": 6,
   "id": "photographic-dealing",
   "metadata": {},
   "outputs": [
    {
     "name": "stdout",
     "output_type": "stream",
     "text": [
      "[5, 1]\n",
      "9\n"
     ]
    }
   ],
   "source": [
    "node_0_value = (input_data * weights['node_0']).sum()\n",
    "node_1_value = (input_data * weights['node_1']).sum()\n",
    "print([node_0_value, node_1_value])\n",
    "\n",
    "output_value = (np.array([node_0_value, node_1_value]) * weights['output']).sum()\n",
    "print(output_value)"
   ]
  },
  {
   "cell_type": "markdown",
   "id": "accessible-memphis",
   "metadata": {},
   "source": [
    "## Activation Functions"
   ]
  },
  {
   "cell_type": "code",
   "execution_count": 9,
   "id": "marine-definition",
   "metadata": {},
   "outputs": [
    {
     "name": "stdout",
     "output_type": "stream",
     "text": [
      "[5, 1]\n",
      "[0.9999092042625951, 0.7615941559557649]\n",
      "1.2382242525694254\n"
     ]
    }
   ],
   "source": [
    "# Use tanh from numpy as the activation function\n",
    "node_0_input = (input_data * weights['node_0']).sum()\n",
    "node_0_output = np.tanh(node_0_input)\n",
    "\n",
    "node_1_input = (input_data * weights['node_1']).sum()\n",
    "node_1_output = np.tanh(node_1_input)\n",
    "\n",
    "print([node_0_input, node_1_input])\n",
    "print([node_0_output, node_1_output])\n",
    "\n",
    "output_value = (np.array([node_0_output, node_1_output]) * weights['output']).sum()\n",
    "print(output_value)"
   ]
  },
  {
   "attachments": {
    "%E8%9E%A2%E5%B9%95%E6%93%B7%E5%8F%96%E7%95%AB%E9%9D%A2%202021-02-12%20153234.jpg": {
     "image/jpeg": "[encoded data removed]"
    }
   },
   "cell_type": "markdown",
   "id": "yellow-reputation",
   "metadata": {},
   "source": [
    "### ReLU (Rectified Linear Activation)\n",
    "\n",
    "示意圖\n",
    "![%E8%9E%A2%E5%B9%95%E6%93%B7%E5%8F%96%E7%95%AB%E9%9D%A2%202021-02-12%20153234.jpg](attachment:%E8%9E%A2%E5%B9%95%E6%93%B7%E5%8F%96%E7%95%AB%E9%9D%A2%202021-02-12%20153234.jpg)"
   ]
  },
  {
   "cell_type": "code",
   "execution_count": 8,
   "id": "bronze-harvard",
   "metadata": {},
   "outputs": [],
   "source": [
    "# Define ReLU function\n",
    "def relu(input):\n",
    "    output = max(input, 0)\n",
    "    return(output)"
   ]
  },
  {
   "cell_type": "markdown",
   "id": "contemporary-speaking",
   "metadata": {},
   "source": [
    "## Multi-layer Neural Network"
   ]
  },
  {
   "cell_type": "code",
   "execution_count": 14,
   "id": "outstanding-queens",
   "metadata": {},
   "outputs": [],
   "source": [
    "def predict_with_network(input_data):\n",
    "    # Calculate node 0 in the first hidden layer\n",
    "    node_0_0_input = (weights['node_0_0'] * input_data).sum()\n",
    "    node_0_0_output = relu(node_0_0_input)\n",
    "\n",
    "    # Calculate node 1 in the first hidden layer\n",
    "    node_0_1_input = (weights['node_0_1'] * input_data).sum()\n",
    "    node_0_1_output = relu(node_0_1_input)\n",
    "\n",
    "    # Put node values into array: hidden_0_outputs\n",
    "    hidden_0_outputs = np.array([node_0_0_output, node_0_1_output])\n",
    "    \n",
    "    # Calculate node 0 in the second hidden layer\n",
    "    node_1_0_input = (weights['node_1_0'] * hidden_0_outputs).sum()\n",
    "    node_1_0_output = relu(node_1_0_input)\n",
    "\n",
    "    # Calculate node 1 in the second hidden layer\n",
    "    node_1_1_input = (weights['node_1_1'] * hidden_0_outputs).sum()\n",
    "    node_1_1_output = relu(node_1_1_input)\n",
    "\n",
    "    # Put node values into array: hidden_1_outputs\n",
    "    hidden_1_outputs = np.array([node_1_0_output, node_1_1_output])\n",
    "\n",
    "    # Calculate model output: model_output\n",
    "    model_output = (weights['output'] * hidden_1_outputs).sum()\n",
    "    \n",
    "    # Return model_output\n",
    "    return(model_output)"
   ]
  },
  {
   "cell_type": "markdown",
   "id": "demographic-saver",
   "metadata": {},
   "source": [
    "### Define a neural network with 2 hidden layers (each layer has two neurons)"
   ]
  },
  {
   "cell_type": "code",
   "execution_count": 15,
   "id": "entitled-corruption",
   "metadata": {},
   "outputs": [],
   "source": [
    "weights = {'node_0_0': np.array([2, 4]),\n",
    " 'node_0_1': np.array([ 4, -5]),\n",
    " 'node_1_0': np.array([-1,  2]),\n",
    " 'node_1_1': np.array([1, 2]),\n",
    " 'output': np.array([2, 7])}"
   ]
  },
  {
   "cell_type": "code",
   "execution_count": 16,
   "id": "nutritional-chorus",
   "metadata": {},
   "outputs": [
    {
     "name": "stdout",
     "output_type": "stream",
     "text": [
      "182\n"
     ]
    }
   ],
   "source": [
    "input_data = np.array([3, 5])\n",
    "output = predict_with_network(input_data)\n",
    "print(output)"
   ]
  }
 ],
 "metadata": {
  "kernelspec": {
   "display_name": "Python 3",
   "language": "python",
   "name": "python3"
  },
  "language_info": {
   "codemirror_mode": {
    "name": "ipython",
    "version": 3
   },
   "file_extension": ".py",
   "mimetype": "text/x-python",
   "name": "python",
   "nbconvert_exporter": "python",
   "pygments_lexer": "ipython3",
   "version": "3.7.9"
  }
 },
 "nbformat": 4,
 "nbformat_minor": 5
}
