{
 "cells": [
  {
   "cell_type": "markdown",
   "id": "specified-feeling",
   "metadata": {},
   "source": [
    "# Build a Keras model\n",
    "\n",
    "## Steps:\n",
    "1. Specify Architecture (Specify number of hidden layers or neurons and activation function)\n",
    "2. Compile (Initialise the model)\n",
    "3. Fit (Use forward and backward propagation to find a set of optimal weights)\n",
    "4. Predict"
   ]
  },
  {
   "cell_type": "markdown",
   "id": "complimentary-student",
   "metadata": {},
   "source": [
    "***"
   ]
  },
  {
   "attachments": {
    "%E8%9E%A2%E5%B9%95%E6%93%B7%E5%8F%96%E7%95%AB%E9%9D%A2%202021-02-14%20233459.jpg": {
     "image/jpeg": "[encoded data removed]"
    }
   },
   "cell_type": "markdown",
   "id": "norman-arabic",
   "metadata": {},
   "source": [
    "## Classification Problem\n",
    "\n",
    "1. Loss function = **'categorical_crossentropy'** - by far the most common (similar to log loss: lower score is better)\n",
    "2. **Metrics = ['accuracy']** should be add in the compile function for easy-to-understand diagnostics\n",
    "3. Output layer has **separate** nodes for each target class\n",
    "4. Use **'softmax'** as the activation function on the output layer - ensure the predictions from all output nodes sum to 1 (provides probability predictions)\n",
    "\n",
    "Separate nodes example:\n",
    "![%E8%9E%A2%E5%B9%95%E6%93%B7%E5%8F%96%E7%95%AB%E9%9D%A2%202021-02-14%20233459.jpg](attachment:%E8%9E%A2%E5%B9%95%E6%93%B7%E5%8F%96%E7%95%AB%E9%9D%A2%202021-02-14%20233459.jpg)"
   ]
  },
  {
   "cell_type": "markdown",
   "id": "pending-approval",
   "metadata": {},
   "source": [
    "### Import modules"
   ]
  },
  {
   "cell_type": "code",
   "execution_count": 1,
   "id": "sunset-accommodation",
   "metadata": {
    "scrolled": true
   },
   "outputs": [
    {
     "name": "stderr",
     "output_type": "stream",
     "text": [
      "Using TensorFlow backend.\n"
     ]
    }
   ],
   "source": [
    "# need to install keras and tensorflow\n",
    "# pip install keras==2.3.0\n",
    "# pip install tensorflow==2.2\n",
    "# Then restart jupyter notebook kernel\n",
    "# pip show keras can show the version\n",
    "import numpy as np    # Only for reading data\n",
    "from keras.layers import Dense\n",
    "from keras.models import Sequential\n",
    "from keras.utils.np_utils import to_categorical    # Help convert target variable into several class variables"
   ]
  },
  {
   "cell_type": "markdown",
   "id": "chronic-consciousness",
   "metadata": {},
   "source": [
    "### Read the data"
   ]
  },
  {
   "cell_type": "code",
   "execution_count": 2,
   "id": "statewide-reynolds",
   "metadata": {},
   "outputs": [
    {
     "name": "stdout",
     "output_type": "stream",
     "text": [
      "(400, 200)\n",
      "(400, 2)\n",
      "200\n"
     ]
    }
   ],
   "source": [
    "# Import a binary classification dataset\n",
    "data = np.genfromtxt(\"small_data.csv\", delimiter = ',')\n",
    "predictors = data[1:, 1:]\n",
    "# convert original target variable into two variables (each variable for each class in the original target)\n",
    "target = to_categorical(data[1:, 0])\n",
    "n_cols = predictors.shape[1]    #get column number\n",
    "\n",
    "print(predictors.shape)\n",
    "print(target.shape)\n",
    "print(n_cols)"
   ]
  },
  {
   "cell_type": "code",
   "execution_count": 3,
   "id": "ranging-rehabilitation",
   "metadata": {},
   "outputs": [
    {
     "data": {
      "text/plain": [
       "(400, 200)"
      ]
     },
     "execution_count": 3,
     "metadata": {},
     "output_type": "execute_result"
    }
   ],
   "source": [
    "predictors.shape"
   ]
  },
  {
   "cell_type": "code",
   "execution_count": 4,
   "id": "sought-blanket",
   "metadata": {},
   "outputs": [
    {
     "data": {
      "text/plain": [
       "(400, 2)"
      ]
     },
     "execution_count": 4,
     "metadata": {},
     "output_type": "execute_result"
    }
   ],
   "source": [
    "target.shape"
   ]
  },
  {
   "cell_type": "code",
   "execution_count": 5,
   "id": "robust-green",
   "metadata": {},
   "outputs": [
    {
     "data": {
      "text/plain": [
       "200"
      ]
     },
     "execution_count": 5,
     "metadata": {},
     "output_type": "execute_result"
    }
   ],
   "source": [
    "n_cols"
   ]
  },
  {
   "cell_type": "markdown",
   "id": "national-cambodia",
   "metadata": {},
   "source": [
    "### Build the model"
   ]
  },
  {
   "cell_type": "code",
   "execution_count": 6,
   "id": "careful-semiconductor",
   "metadata": {},
   "outputs": [],
   "source": [
    "# Sequential model indicates that each layer has weights or connections only to the layer coming directly after it\n",
    "# It is easier to build\n",
    "model = Sequential()\n",
    "# Add layers\n",
    "# A Dense layer means that all of the nodes in the previous layer connect to all of the nodes in the current layer\n",
    "# Dense(這一層的Nodes的數量, activation = 'relu', input_shape = (n_cols, ))，其中input layer必須設定input_shape這個參數\n",
    "model.add(Dense(100, activation = 'relu', input_shape = (n_cols, )))\n",
    "model.add(Dense(100, activation = 'relu'))\n",
    "model.add(Dense(100, activation = 'relu'))\n",
    "# output layer\n",
    "model.add(Dense(2, activation = 'softmax'))"
   ]
  },
  {
   "cell_type": "markdown",
   "id": "arbitrary-election",
   "metadata": {},
   "source": [
    "### Compile the model\n",
    "1. Specify the optimiser (controls the learning rate): Try using 'sgd' (Stochastic gradient descent) as the optimizer to tune the learning rate\n",
    "2. Specify the loss function: categorical_crossentropy is common for classification problems\n",
    "3. Specify metrics = ['accuracy'] enables us to check current accuracy for each step"
   ]
  },
  {
   "cell_type": "code",
   "execution_count": 16,
   "id": "convertible-interference",
   "metadata": {},
   "outputs": [],
   "source": [
    "#model.compile(optimizer='sgd', loss='categorical_crossentropy', metrics=['accuracy'])\n",
    "model.compile(optimizer='adam', loss='categorical_crossentropy', metrics=['accuracy'])"
   ]
  },
  {
   "cell_type": "markdown",
   "id": "green-tactics",
   "metadata": {},
   "source": [
    "### Fit the model\n",
    "\n",
    "Scaling (normalising) the data improves the optimisation process: Subtract each feature by that feature's mean and divide it by it's standard deviation."
   ]
  },
  {
   "cell_type": "code",
   "execution_count": 17,
   "id": "expensive-theta",
   "metadata": {
    "scrolled": true
   },
   "outputs": [
    {
     "name": "stdout",
     "output_type": "stream",
     "text": [
      "Epoch 1/1\n",
      "400/400 [==============================] - 0s 667us/step - loss: nan - accuracy: 0.5000\n"
     ]
    },
    {
     "data": {
      "text/plain": [
       "<keras.callbacks.callbacks.History at 0x139a20d9288>"
      ]
     },
     "execution_count": 17,
     "metadata": {},
     "output_type": "execute_result"
    }
   ],
   "source": [
    "model.fit(predictors, target)"
   ]
  },
  {
   "cell_type": "markdown",
   "id": "furnished-argentina",
   "metadata": {},
   "source": [
    "### Save the model\n",
    "\n",
    "Models are saved as hdf5 file"
   ]
  },
  {
   "cell_type": "code",
   "execution_count": 18,
   "id": "greatest-least",
   "metadata": {},
   "outputs": [],
   "source": [
    "from keras.models import load_model\n",
    "model.save('classification_model.h5')"
   ]
  },
  {
   "cell_type": "markdown",
   "id": "intelligent-gates",
   "metadata": {},
   "source": [
    "### Reload the model"
   ]
  },
  {
   "cell_type": "code",
   "execution_count": 19,
   "id": "opposite-cambridge",
   "metadata": {},
   "outputs": [],
   "source": [
    "my_model = load_model('classification_model.h5')"
   ]
  },
  {
   "cell_type": "markdown",
   "id": "nonprofit-carbon",
   "metadata": {},
   "source": [
    "### Make Predictions"
   ]
  },
  {
   "cell_type": "code",
   "execution_count": 20,
   "id": "joined-compact",
   "metadata": {},
   "outputs": [
    {
     "name": "stdout",
     "output_type": "stream",
     "text": [
      "[[nan nan]\n",
      " [nan nan]\n",
      " [nan nan]\n",
      " [nan nan]\n",
      " [nan nan]\n",
      " [nan nan]\n",
      " [nan nan]\n",
      " [nan nan]\n",
      " [nan nan]\n",
      " [nan nan]\n",
      " [nan nan]\n",
      " [nan nan]\n",
      " [nan nan]\n",
      " [nan nan]\n",
      " [nan nan]\n",
      " [nan nan]\n",
      " [nan nan]\n",
      " [nan nan]\n",
      " [nan nan]\n",
      " [nan nan]\n",
      " [nan nan]\n",
      " [nan nan]\n",
      " [nan nan]\n",
      " [nan nan]\n",
      " [nan nan]\n",
      " [nan nan]\n",
      " [nan nan]\n",
      " [nan nan]\n",
      " [nan nan]\n",
      " [nan nan]\n",
      " [nan nan]\n",
      " [nan nan]\n",
      " [nan nan]\n",
      " [nan nan]\n",
      " [nan nan]\n",
      " [nan nan]\n",
      " [nan nan]\n",
      " [nan nan]\n",
      " [nan nan]\n",
      " [nan nan]\n",
      " [nan nan]\n",
      " [nan nan]\n",
      " [nan nan]\n",
      " [nan nan]\n",
      " [nan nan]\n",
      " [nan nan]\n",
      " [nan nan]\n",
      " [nan nan]\n",
      " [nan nan]\n",
      " [nan nan]\n",
      " [nan nan]\n",
      " [nan nan]\n",
      " [nan nan]\n",
      " [nan nan]\n",
      " [nan nan]\n",
      " [nan nan]\n",
      " [nan nan]\n",
      " [nan nan]\n",
      " [nan nan]\n",
      " [nan nan]\n",
      " [nan nan]\n",
      " [nan nan]\n",
      " [nan nan]\n",
      " [nan nan]\n",
      " [nan nan]\n",
      " [nan nan]\n",
      " [nan nan]\n",
      " [nan nan]\n",
      " [nan nan]\n",
      " [nan nan]\n",
      " [nan nan]\n",
      " [nan nan]\n",
      " [nan nan]\n",
      " [nan nan]\n",
      " [nan nan]\n",
      " [nan nan]\n",
      " [nan nan]\n",
      " [nan nan]\n",
      " [nan nan]\n",
      " [nan nan]\n",
      " [nan nan]\n",
      " [nan nan]\n",
      " [nan nan]\n",
      " [nan nan]\n",
      " [nan nan]\n",
      " [nan nan]\n",
      " [nan nan]\n",
      " [nan nan]\n",
      " [nan nan]\n",
      " [nan nan]\n",
      " [nan nan]\n",
      " [nan nan]\n",
      " [nan nan]\n",
      " [nan nan]\n",
      " [nan nan]\n",
      " [nan nan]\n",
      " [nan nan]\n",
      " [nan nan]\n",
      " [nan nan]\n",
      " [nan nan]\n",
      " [nan nan]\n",
      " [nan nan]\n",
      " [nan nan]\n",
      " [nan nan]\n",
      " [nan nan]\n",
      " [nan nan]\n",
      " [nan nan]\n",
      " [nan nan]\n",
      " [nan nan]\n",
      " [nan nan]\n",
      " [nan nan]\n",
      " [nan nan]\n",
      " [nan nan]\n",
      " [nan nan]\n",
      " [nan nan]\n",
      " [nan nan]\n",
      " [nan nan]\n",
      " [nan nan]\n",
      " [nan nan]\n",
      " [nan nan]\n",
      " [nan nan]\n",
      " [nan nan]\n",
      " [nan nan]\n",
      " [nan nan]\n",
      " [nan nan]\n",
      " [nan nan]\n",
      " [nan nan]\n",
      " [nan nan]\n",
      " [nan nan]\n",
      " [nan nan]\n",
      " [nan nan]\n",
      " [nan nan]\n",
      " [nan nan]\n",
      " [nan nan]\n",
      " [nan nan]\n",
      " [nan nan]\n",
      " [nan nan]\n",
      " [nan nan]\n",
      " [nan nan]\n",
      " [nan nan]\n",
      " [nan nan]\n",
      " [nan nan]\n",
      " [nan nan]\n",
      " [nan nan]\n",
      " [nan nan]\n",
      " [nan nan]\n",
      " [nan nan]\n",
      " [nan nan]\n",
      " [nan nan]\n",
      " [nan nan]\n",
      " [nan nan]\n",
      " [nan nan]\n",
      " [nan nan]\n",
      " [nan nan]\n",
      " [nan nan]\n",
      " [nan nan]\n",
      " [nan nan]\n",
      " [nan nan]\n",
      " [nan nan]\n",
      " [nan nan]\n",
      " [nan nan]\n",
      " [nan nan]\n",
      " [nan nan]\n",
      " [nan nan]\n",
      " [nan nan]\n",
      " [nan nan]\n",
      " [nan nan]\n",
      " [nan nan]\n",
      " [nan nan]\n",
      " [nan nan]\n",
      " [nan nan]\n",
      " [nan nan]\n",
      " [nan nan]\n",
      " [nan nan]\n",
      " [nan nan]\n",
      " [nan nan]\n",
      " [nan nan]\n",
      " [nan nan]\n",
      " [nan nan]\n",
      " [nan nan]\n",
      " [nan nan]\n",
      " [nan nan]\n",
      " [nan nan]\n",
      " [nan nan]\n",
      " [nan nan]\n",
      " [nan nan]\n",
      " [nan nan]\n",
      " [nan nan]\n",
      " [nan nan]\n",
      " [nan nan]\n",
      " [nan nan]\n",
      " [nan nan]\n",
      " [nan nan]\n",
      " [nan nan]\n",
      " [nan nan]\n",
      " [nan nan]\n",
      " [nan nan]\n",
      " [nan nan]\n",
      " [nan nan]\n",
      " [nan nan]\n",
      " [nan nan]\n",
      " [nan nan]\n",
      " [nan nan]\n",
      " [nan nan]\n",
      " [nan nan]\n",
      " [nan nan]\n",
      " [nan nan]\n",
      " [nan nan]\n",
      " [nan nan]\n",
      " [nan nan]\n",
      " [nan nan]\n",
      " [nan nan]\n",
      " [nan nan]\n",
      " [nan nan]\n",
      " [nan nan]\n",
      " [nan nan]\n",
      " [nan nan]\n",
      " [nan nan]\n",
      " [nan nan]\n",
      " [nan nan]\n",
      " [nan nan]\n",
      " [nan nan]\n",
      " [nan nan]\n",
      " [nan nan]\n",
      " [nan nan]\n",
      " [nan nan]\n",
      " [nan nan]\n",
      " [nan nan]\n",
      " [nan nan]\n",
      " [nan nan]\n",
      " [nan nan]\n",
      " [nan nan]\n",
      " [nan nan]\n",
      " [nan nan]\n",
      " [nan nan]\n",
      " [nan nan]\n",
      " [nan nan]\n",
      " [nan nan]\n",
      " [nan nan]\n",
      " [nan nan]\n",
      " [nan nan]\n",
      " [nan nan]\n",
      " [nan nan]\n",
      " [nan nan]\n",
      " [nan nan]\n",
      " [nan nan]\n",
      " [nan nan]\n",
      " [nan nan]\n",
      " [nan nan]\n",
      " [nan nan]\n",
      " [nan nan]\n",
      " [nan nan]\n",
      " [nan nan]\n",
      " [nan nan]\n",
      " [nan nan]\n",
      " [nan nan]\n",
      " [nan nan]\n",
      " [nan nan]\n",
      " [nan nan]\n",
      " [nan nan]\n",
      " [nan nan]\n",
      " [nan nan]\n",
      " [nan nan]\n",
      " [nan nan]\n",
      " [nan nan]\n",
      " [nan nan]\n",
      " [nan nan]\n",
      " [nan nan]\n",
      " [nan nan]\n",
      " [nan nan]\n",
      " [nan nan]\n",
      " [nan nan]\n",
      " [nan nan]\n",
      " [nan nan]\n",
      " [nan nan]\n",
      " [nan nan]\n",
      " [nan nan]\n",
      " [nan nan]\n",
      " [nan nan]\n",
      " [nan nan]\n",
      " [nan nan]\n",
      " [nan nan]\n",
      " [nan nan]\n",
      " [nan nan]\n",
      " [nan nan]\n",
      " [nan nan]\n",
      " [nan nan]\n",
      " [nan nan]\n",
      " [nan nan]\n",
      " [nan nan]\n",
      " [nan nan]\n",
      " [nan nan]\n",
      " [nan nan]\n",
      " [nan nan]\n",
      " [nan nan]\n",
      " [nan nan]\n",
      " [nan nan]\n",
      " [nan nan]\n",
      " [nan nan]\n",
      " [nan nan]\n",
      " [nan nan]\n",
      " [nan nan]\n",
      " [nan nan]\n",
      " [nan nan]\n",
      " [nan nan]\n",
      " [nan nan]\n",
      " [nan nan]\n",
      " [nan nan]\n",
      " [nan nan]\n",
      " [nan nan]\n",
      " [nan nan]\n",
      " [nan nan]\n",
      " [nan nan]\n",
      " [nan nan]\n",
      " [nan nan]\n",
      " [nan nan]\n",
      " [nan nan]\n",
      " [nan nan]\n",
      " [nan nan]\n",
      " [nan nan]\n",
      " [nan nan]\n",
      " [nan nan]\n",
      " [nan nan]\n",
      " [nan nan]\n",
      " [nan nan]\n",
      " [nan nan]\n",
      " [nan nan]\n",
      " [nan nan]\n",
      " [nan nan]\n",
      " [nan nan]\n",
      " [nan nan]\n",
      " [nan nan]\n",
      " [nan nan]\n",
      " [nan nan]\n",
      " [nan nan]\n",
      " [nan nan]\n",
      " [nan nan]\n",
      " [nan nan]\n",
      " [nan nan]\n",
      " [nan nan]\n",
      " [nan nan]\n",
      " [nan nan]\n",
      " [nan nan]\n",
      " [nan nan]\n",
      " [nan nan]\n",
      " [nan nan]\n",
      " [nan nan]\n",
      " [nan nan]\n",
      " [nan nan]\n",
      " [nan nan]\n",
      " [nan nan]\n",
      " [nan nan]\n",
      " [nan nan]\n",
      " [nan nan]\n",
      " [nan nan]\n",
      " [nan nan]\n",
      " [nan nan]\n",
      " [nan nan]\n",
      " [nan nan]\n",
      " [nan nan]\n",
      " [nan nan]\n",
      " [nan nan]\n",
      " [nan nan]\n",
      " [nan nan]\n",
      " [nan nan]\n",
      " [nan nan]\n",
      " [nan nan]\n",
      " [nan nan]\n",
      " [nan nan]\n",
      " [nan nan]\n",
      " [nan nan]\n",
      " [nan nan]\n",
      " [nan nan]\n",
      " [nan nan]\n",
      " [nan nan]\n",
      " [nan nan]\n",
      " [nan nan]\n",
      " [nan nan]\n",
      " [nan nan]\n",
      " [nan nan]\n",
      " [nan nan]\n",
      " [nan nan]\n",
      " [nan nan]\n",
      " [nan nan]\n",
      " [nan nan]\n",
      " [nan nan]\n",
      " [nan nan]\n",
      " [nan nan]\n",
      " [nan nan]\n",
      " [nan nan]\n",
      " [nan nan]\n",
      " [nan nan]\n",
      " [nan nan]\n",
      " [nan nan]\n",
      " [nan nan]\n",
      " [nan nan]\n",
      " [nan nan]\n",
      " [nan nan]\n",
      " [nan nan]\n",
      " [nan nan]]\n"
     ]
    },
    {
     "data": {
      "text/plain": [
       "array([nan, nan, nan, nan, nan, nan, nan, nan, nan, nan, nan, nan, nan,\n",
       "       nan, nan, nan, nan, nan, nan, nan, nan, nan, nan, nan, nan, nan,\n",
       "       nan, nan, nan, nan, nan, nan, nan, nan, nan, nan, nan, nan, nan,\n",
       "       nan, nan, nan, nan, nan, nan, nan, nan, nan, nan, nan, nan, nan,\n",
       "       nan, nan, nan, nan, nan, nan, nan, nan, nan, nan, nan, nan, nan,\n",
       "       nan, nan, nan, nan, nan, nan, nan, nan, nan, nan, nan, nan, nan,\n",
       "       nan, nan, nan, nan, nan, nan, nan, nan, nan, nan, nan, nan, nan,\n",
       "       nan, nan, nan, nan, nan, nan, nan, nan, nan, nan, nan, nan, nan,\n",
       "       nan, nan, nan, nan, nan, nan, nan, nan, nan, nan, nan, nan, nan,\n",
       "       nan, nan, nan, nan, nan, nan, nan, nan, nan, nan, nan, nan, nan,\n",
       "       nan, nan, nan, nan, nan, nan, nan, nan, nan, nan, nan, nan, nan,\n",
       "       nan, nan, nan, nan, nan, nan, nan, nan, nan, nan, nan, nan, nan,\n",
       "       nan, nan, nan, nan, nan, nan, nan, nan, nan, nan, nan, nan, nan,\n",
       "       nan, nan, nan, nan, nan, nan, nan, nan, nan, nan, nan, nan, nan,\n",
       "       nan, nan, nan, nan, nan, nan, nan, nan, nan, nan, nan, nan, nan,\n",
       "       nan, nan, nan, nan, nan, nan, nan, nan, nan, nan, nan, nan, nan,\n",
       "       nan, nan, nan, nan, nan, nan, nan, nan, nan, nan, nan, nan, nan,\n",
       "       nan, nan, nan, nan, nan, nan, nan, nan, nan, nan, nan, nan, nan,\n",
       "       nan, nan, nan, nan, nan, nan, nan, nan, nan, nan, nan, nan, nan,\n",
       "       nan, nan, nan, nan, nan, nan, nan, nan, nan, nan, nan, nan, nan,\n",
       "       nan, nan, nan, nan, nan, nan, nan, nan, nan, nan, nan, nan, nan,\n",
       "       nan, nan, nan, nan, nan, nan, nan, nan, nan, nan, nan, nan, nan,\n",
       "       nan, nan, nan, nan, nan, nan, nan, nan, nan, nan, nan, nan, nan,\n",
       "       nan, nan, nan, nan, nan, nan, nan, nan, nan, nan, nan, nan, nan,\n",
       "       nan, nan, nan, nan, nan, nan, nan, nan, nan, nan, nan, nan, nan,\n",
       "       nan, nan, nan, nan, nan, nan, nan, nan, nan, nan, nan, nan, nan,\n",
       "       nan, nan, nan, nan, nan, nan, nan, nan, nan, nan, nan, nan, nan,\n",
       "       nan, nan, nan, nan, nan, nan, nan, nan, nan, nan, nan, nan, nan,\n",
       "       nan, nan, nan, nan, nan, nan, nan, nan, nan, nan, nan, nan, nan,\n",
       "       nan, nan, nan, nan, nan, nan, nan, nan, nan, nan, nan, nan, nan,\n",
       "       nan, nan, nan, nan, nan, nan, nan, nan, nan, nan], dtype=float32)"
      ]
     },
     "execution_count": 20,
     "metadata": {},
     "output_type": "execute_result"
    }
   ],
   "source": [
    "class_predictions = my_model.predict(predictors)\n",
    "print(class_predictions)\n",
    "probability_true = class_predictions[:, 1]\n",
    "probability_true"
   ]
  },
  {
   "cell_type": "markdown",
   "id": "animal-nurse",
   "metadata": {},
   "source": [
    "### Print the model architecture"
   ]
  },
  {
   "cell_type": "code",
   "execution_count": 15,
   "id": "acoustic-lafayette",
   "metadata": {
    "scrolled": true
   },
   "outputs": [
    {
     "name": "stdout",
     "output_type": "stream",
     "text": [
      "Model: \"sequential_1\"\n",
      "_________________________________________________________________\n",
      "Layer (type)                 Output Shape              Param #   \n",
      "=================================================================\n",
      "dense_1 (Dense)              (None, 100)               20100     \n",
      "_________________________________________________________________\n",
      "dense_2 (Dense)              (None, 100)               10100     \n",
      "_________________________________________________________________\n",
      "dense_3 (Dense)              (None, 100)               10100     \n",
      "_________________________________________________________________\n",
      "dense_4 (Dense)              (None, 2)                 202       \n",
      "=================================================================\n",
      "Total params: 40,502\n",
      "Trainable params: 40,502\n",
      "Non-trainable params: 0\n",
      "_________________________________________________________________\n"
     ]
    }
   ],
   "source": [
    "my_model.summary()"
   ]
  },
  {
   "cell_type": "markdown",
   "id": "computational-mercy",
   "metadata": {},
   "source": [
    "***"
   ]
  },
  {
   "cell_type": "markdown",
   "id": "practical-aging",
   "metadata": {},
   "source": [
    "## Regression Problem\n",
    "\n",
    "1. Loss function = **'relu'** - by far the most common (similar to log loss: lower score is better)\n",
    "2. Output layer has only one node"
   ]
  },
  {
   "cell_type": "markdown",
   "id": "noble-sheffield",
   "metadata": {},
   "source": [
    "### Import modules"
   ]
  },
  {
   "cell_type": "code",
   "execution_count": 45,
   "id": "faced-aberdeen",
   "metadata": {},
   "outputs": [],
   "source": [
    "# need to install keras and tensorflow\n",
    "# pip install keras==2.3.0\n",
    "# pip install tensorflow==2.2\n",
    "# Then restart jupyter notebook kernel\n",
    "# pip show keras can show the version\n",
    "import numpy as np    # Only for reading data\n",
    "from keras.layers import Dense\n",
    "from keras.models import Sequential"
   ]
  },
  {
   "cell_type": "markdown",
   "id": "precious-width",
   "metadata": {},
   "source": [
    "### Read the data"
   ]
  },
  {
   "cell_type": "code",
   "execution_count": 46,
   "id": "seventh-counter",
   "metadata": {},
   "outputs": [
    {
     "name": "stdout",
     "output_type": "stream",
     "text": [
      "(400, 200)\n",
      "(400,)\n",
      "200\n"
     ]
    }
   ],
   "source": [
    "data = np.genfromtxt(\"small_data.csv\", delimiter = ',')\n",
    "predictors = data[1:, 1:]\n",
    "target = data[1:, 0]\n",
    "n_cols = predictors.shape[1]    #get column number\n",
    "\n",
    "print(predictors.shape)\n",
    "print(target.shape)\n",
    "print(n_cols)"
   ]
  },
  {
   "cell_type": "markdown",
   "id": "finished-horse",
   "metadata": {},
   "source": [
    "### Build the model"
   ]
  },
  {
   "cell_type": "code",
   "execution_count": 47,
   "id": "second-assessment",
   "metadata": {},
   "outputs": [],
   "source": [
    "# Sequential model indicates that each layer has weights or connections only to the layer coming directly after it\n",
    "# It is easier to build\n",
    "model = Sequential()\n",
    "# Add layers\n",
    "# A Dense layer means that all of the nodes in the previous layer connect to all of the nodes in the current layer\n",
    "# Dense(這一層的Nodes的數量, activation = 'relu', input_shape = (n_cols, ))，其中input layer必須設定input_shape這個參數\n",
    "model.add(Dense(200, activation = 'relu', input_shape = (n_cols, )))\n",
    "model.add(Dense(200, activation = 'relu'))\n",
    "# Last layer only has one node --> output layer\n",
    "model.add(Dense(1))"
   ]
  },
  {
   "cell_type": "markdown",
   "id": "significant-field",
   "metadata": {},
   "source": [
    "### Compile the model\n",
    "1. Specify the optimiser (controls the learning rate): \"Adam\" is a good choice to optimise learning rate. \"Adam\" uses gradient descent to ensure reasonable values throughout the weight optimisation process\n",
    "2. Specify the loss function: Mean Square Error is common for regression problems"
   ]
  },
  {
   "cell_type": "code",
   "execution_count": 48,
   "id": "supreme-testament",
   "metadata": {},
   "outputs": [],
   "source": [
    "model.compile(optimizer='adam', loss='mean_squared_error')"
   ]
  },
  {
   "cell_type": "markdown",
   "id": "cellular-differential",
   "metadata": {},
   "source": [
    "### Fit the model\n",
    "\n",
    "Scaling (normalising) the data improves the optimisation process: Subtract each feature by that feature's mean and divide it by it's standard deviation."
   ]
  },
  {
   "cell_type": "code",
   "execution_count": 49,
   "id": "international-credit",
   "metadata": {
    "scrolled": true
   },
   "outputs": [
    {
     "name": "stdout",
     "output_type": "stream",
     "text": [
      "Epoch 1/1\n",
      "400/400 [==============================] - 0s 213us/step - loss: nan\n"
     ]
    },
    {
     "data": {
      "text/plain": [
       "<keras.callbacks.callbacks.History at 0x22ec7cb8c08>"
      ]
     },
     "execution_count": 49,
     "metadata": {},
     "output_type": "execute_result"
    }
   ],
   "source": [
    "model.fit(predictors, target)"
   ]
  },
  {
   "cell_type": "code",
   "execution_count": null,
   "id": "federal-champion",
   "metadata": {},
   "outputs": [],
   "source": []
  },
  {
   "cell_type": "markdown",
   "id": "abstract-african",
   "metadata": {},
   "source": [
    "---\n",
    "# Test\n",
    "---"
   ]
  },
  {
   "cell_type": "code",
   "execution_count": 22,
   "id": "floating-surname",
   "metadata": {},
   "outputs": [],
   "source": [
    "def normalize(value,maxValue,minValue,maxRange,minRange):\n",
    "    return ((value - (minValue - 0.01)) * (maxRange - (minRange))) / ((maxValue - 0.01) - (minValue - 0.01)) + (minRange)"
   ]
  },
  {
   "cell_type": "code",
   "execution_count": 29,
   "id": "heavy-independence",
   "metadata": {},
   "outputs": [
    {
     "data": {
      "text/plain": [
       "list"
      ]
     },
     "execution_count": 29,
     "metadata": {},
     "output_type": "execute_result"
    }
   ],
   "source": [
    "cities = []\n",
    "\n",
    "cities.append([60.1695213,24.9354496]); #1\n",
    "cities.append([60.2052002,24.6522007]); #2\n",
    "cities.append([61.4991112,23.7871208]); #3\n",
    "cities.append([64.222176,27.72785]);    #4\n",
    "cities.append([60.4514809,22.2686901]); #5\n",
    "cities.append([65.0123596,25.4681606]); #6\n",
    "cities.append([60.9826698,25.6615105]); #7\n",
    "cities.append([62.8923798,27.6770306]); #8\n",
    "cities.append([62.2414703,25.7208805]); #9\n",
    "cities.append([61.4833298,21.7833309]); #10\n",
    "cities.append([61.0587082,28.1887093]); #11\n",
    "cities.append([63.0960007,21.6157703]); #12\n",
    "cities.append([60.4664001,26.9458199]); #13\n",
    "cities.append([62.601181,29.7631607]); #14\n",
    "cities.append([60.9959602,24.4643402]); #15\n",
    "cities.append([60.3923302,25.6650696]); #16\n",
    "cities.append([61.6885681,27.2722702]); #17\n",
    "cities.append([65.579287,24.196943]); #18\n",
    "cities.append([65.986503,28.692848]); #19\n",
    "cities.append([61.1272392,21.5112705]); #20\n",
    "\n",
    "train_cities = np.array(cities)\n",
    "\n",
    "for i in train_cities:\n",
    "    i[0] = normalize(i[0],65.986503,60.1695213,0.99,0.01)\n",
    "    i[1] = normalize(i[1],29.7631607,21.5112705,0.99,0.01)\n",
    "\n",
    "train_labels = [1,2,3,4,5,6,7,8,9,10,11,12,13,14,15,16,17,18,19,20]\n",
    "type(train_labels)"
   ]
  },
  {
   "cell_type": "code",
   "execution_count": 24,
   "id": "civil-sterling",
   "metadata": {},
   "outputs": [
    {
     "data": {
      "text/plain": [
       "array([[0.01168472, 0.41784541],\n",
       "       [0.01769563, 0.38420658],\n",
       "       [0.23568373, 0.28146911],\n",
       "       [0.69444458, 0.74947275],\n",
       "       [0.05918709, 0.10113927],\n",
       "       [0.82756859, 0.48111052],\n",
       "       [0.14867768, 0.50407289],\n",
       "       [0.47041082, 0.7434374 ],\n",
       "       [0.36075063, 0.51112371],\n",
       "       [0.233025  , 0.04349768],\n",
       "       [0.16148804, 0.80420471],\n",
       "       [0.50471529, 0.02359807],\n",
       "       [0.06170056, 0.65659833],\n",
       "       [0.42135191, 0.99118761],\n",
       "       [0.15091674, 0.36189614],\n",
       "       [0.04922184, 0.50449557],\n",
       "       [0.26760196, 0.69536778],\n",
       "       [0.92308013, 0.33013987],\n",
       "       [0.99168472, 0.86407655],\n",
       "       [0.17303361, 0.01118761]])"
      ]
     },
     "execution_count": 24,
     "metadata": {},
     "output_type": "execute_result"
    }
   ],
   "source": [
    "train_cities"
   ]
  },
  {
   "cell_type": "code",
   "execution_count": 44,
   "id": "altered-windsor",
   "metadata": {},
   "outputs": [],
   "source": [
    "model = Sequential()\n",
    "model.add(Dense(100, activation='relu', input_shape = (2,)))\n",
    "model.add(Dense(100, activation='relu'))\n",
    "model.add(Dense(100, activation='relu'))\n",
    "model.add(Dense(1))"
   ]
  },
  {
   "cell_type": "code",
   "execution_count": 45,
   "id": "personal-cameroon",
   "metadata": {},
   "outputs": [],
   "source": [
    "model.compile(optimizer='adam', \n",
    "              loss='mean_squared_error',\n",
    "              metrics=['accuracy'])"
   ]
  },
  {
   "cell_type": "code",
   "execution_count": 48,
   "id": "irish-theology",
   "metadata": {},
   "outputs": [
    {
     "name": "stdout",
     "output_type": "stream",
     "text": [
      "Epoch 1/1\n",
      "\r",
      "20/20 [==============================] - 0s 0us/step - loss: 37.2881 - accuracy: 0.0500\n"
     ]
    },
    {
     "data": {
      "text/plain": [
       "<keras.callbacks.callbacks.History at 0x139acf2d1c8>"
      ]
     },
     "execution_count": 48,
     "metadata": {},
     "output_type": "execute_result"
    }
   ],
   "source": [
    "model.fit(train_cities, train_labels)"
   ]
  },
  {
   "cell_type": "code",
   "execution_count": 49,
   "id": "arranged-occurrence",
   "metadata": {},
   "outputs": [
    {
     "name": "stdout",
     "output_type": "stream",
     "text": [
      "[[ 9.47119  ]\n",
      " [ 9.195901 ]\n",
      " [ 9.714806 ]\n",
      " [16.37035  ]\n",
      " [ 7.163011 ]\n",
      " [15.434869 ]\n",
      " [10.968927 ]\n",
      " [14.88313  ]\n",
      " [12.3056135]\n",
      " [ 7.9348207]\n",
      " [13.94732  ]\n",
      " [ 9.930827 ]\n",
      " [12.029143 ]\n",
      " [16.973246 ]\n",
      " [ 9.7855625]\n",
      " [10.480045 ]\n",
      " [13.361796 ]\n",
      " [15.2594595]\n",
      " [19.377869 ]\n",
      " [ 7.2794256]]\n"
     ]
    }
   ],
   "source": [
    "predictions = model.predict(train_cities)\n",
    "print(predictions)"
   ]
  },
  {
   "cell_type": "code",
   "execution_count": null,
   "id": "celtic-beast",
   "metadata": {},
   "outputs": [],
   "source": []
  }
 ],
 "metadata": {
  "kernelspec": {
   "display_name": "Python 3",
   "language": "python",
   "name": "python3"
  },
  "language_info": {
   "codemirror_mode": {
    "name": "ipython",
    "version": 3
   },
   "file_extension": ".py",
   "mimetype": "text/x-python",
   "name": "python",
   "nbconvert_exporter": "python",
   "pygments_lexer": "ipython3",
   "version": "3.7.9"
  }
 },
 "nbformat": 4,
 "nbformat_minor": 5
}
