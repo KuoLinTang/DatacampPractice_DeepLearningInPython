{
 "cells": [
  {
   "cell_type": "markdown",
   "id": "assisted-damage",
   "metadata": {},
   "source": [
    "# Recognizing Handwritten Digits\n",
    "\n",
    "1. MINST dataset\n",
    "2. 解析度 28 * 28 總共784個pixels\n",
    "3. 每個pixels都會以darkness來記錄 (0為white, 1為dark)"
   ]
  },
  {
   "cell_type": "code",
   "execution_count": 77,
   "id": "standard-maple",
   "metadata": {},
   "outputs": [],
   "source": [
    "import pandas as pd"
   ]
  },
  {
   "cell_type": "code",
   "execution_count": 107,
   "id": "bacterial-consumption",
   "metadata": {},
   "outputs": [
    {
     "name": "stdout",
     "output_type": "stream",
     "text": [
      "   0    1    2    3    4    5    6    7    8    9    ...    775    776   777  \\\n",
      "0    5    0  0.1  0.2  0.3  0.4  0.5  0.6  0.7  0.8  ...  0.608  0.609  0.61   \n",
      "1    4    0  0.0  0.0  0.0  0.0  0.0  0.0  0.0  0.0  ...  0.000  0.000  0.00   \n",
      "2    3    0  0.0  0.0  0.0  0.0  0.0  0.0  0.0  0.0  ...  0.000  0.000  0.00   \n",
      "3    0    0  0.0  0.0  0.0  0.0  0.0  0.0  0.0  0.0  ...  0.000  0.000  0.00   \n",
      "4    2    0  0.0  0.0  0.0  0.0  0.0  0.0  0.0  0.0  ...  0.000  0.000  0.00   \n",
      "\n",
      "     778    779    780    781    782    783    784  \n",
      "0  0.611  0.612  0.613  0.614  0.615  0.616  0.617  \n",
      "1  0.000  0.000  0.000  0.000  0.000  0.000  0.000  \n",
      "2  0.000  0.000  0.000  0.000  0.000  0.000  0.000  \n",
      "3  0.000  0.000  0.000  0.000  0.000  0.000  0.000  \n",
      "4  0.000  0.000  0.000  0.000  0.000  0.000  0.000  \n",
      "\n",
      "[5 rows x 785 columns]\n",
      "(2001, 785)\n"
     ]
    }
   ],
   "source": [
    "data = pd.read_csv(\"MNIST dataset\\\\mnist.csv\", header=None)\n",
    "print(data.head())\n",
    "print(data.shape)"
   ]
  },
  {
   "cell_type": "code",
   "execution_count": 109,
   "id": "superb-electric",
   "metadata": {
    "scrolled": true
   },
   "outputs": [
    {
     "data": {
      "text/plain": [
       "(2001, 784)"
      ]
     },
     "execution_count": 109,
     "metadata": {},
     "output_type": "execute_result"
    }
   ],
   "source": [
    "X = data.drop(0, axis = 1).to_numpy()\n",
    "X.shape"
   ]
  },
  {
   "cell_type": "code",
   "execution_count": 110,
   "id": "prompt-affairs",
   "metadata": {
    "scrolled": true
   },
   "outputs": [
    {
     "name": "stdout",
     "output_type": "stream",
     "text": [
      "[5 4 3 0 2 8 8 1 2 6]\n",
      "(2001,)\n",
      "2001\n"
     ]
    }
   ],
   "source": [
    "y_raw = data[0].to_numpy()\n",
    "print(y_raw[0:10])\n",
    "print(y_raw.shape)\n",
    "print(len(y_raw))"
   ]
  },
  {
   "cell_type": "code",
   "execution_count": 139,
   "id": "classified-norway",
   "metadata": {},
   "outputs": [],
   "source": [
    "# An example of one-hot encoding\n",
    "import numpy as np\n",
    "\n",
    "def dummies(n, labels):\n",
    "    # The number of image categories\n",
    "    n_categories = n\n",
    "\n",
    "    # The unique values of categories in the data\n",
    "    categories = np.array([0, 1, 2, 3, 4, 5, 6, 7, 8, 9])\n",
    "\n",
    "    # Initialize ohe_labels as all zeros\n",
    "    ohe_labels = np.zeros((len(labels), n_categories))\n",
    "\n",
    "    # Loop over the labels\n",
    "    for ii in range(len(labels)):\n",
    "        # Find the location of this label in the categories variable\n",
    "        jj = np.where(labels[ii] == categories)\n",
    "        # Set the corresponding zero to one\n",
    "        ohe_labels[ii,jj] = 1\n",
    "\n",
    "    return ohe_labels"
   ]
  },
  {
   "cell_type": "code",
   "execution_count": 140,
   "id": "unauthorized-dictionary",
   "metadata": {},
   "outputs": [],
   "source": [
    "y = dummies(10, y_raw)"
   ]
  },
  {
   "cell_type": "code",
   "execution_count": 141,
   "id": "protected-cambodia",
   "metadata": {},
   "outputs": [
    {
     "data": {
      "text/plain": [
       "(2001, 10)"
      ]
     },
     "execution_count": 141,
     "metadata": {},
     "output_type": "execute_result"
    }
   ],
   "source": [
    "y.shape"
   ]
  },
  {
   "cell_type": "code",
   "execution_count": 114,
   "id": "varied-shopper",
   "metadata": {},
   "outputs": [],
   "source": [
    "from sklearn.model_selection import train_test_split\n",
    "X_train, X_test, y_train, y_test = train_test_split(X, y, test_size = 0.2, random_state=21)"
   ]
  },
  {
   "cell_type": "code",
   "execution_count": 115,
   "id": "plastic-novelty",
   "metadata": {},
   "outputs": [
    {
     "name": "stdout",
     "output_type": "stream",
     "text": [
      "(1600, 784)\n",
      "(1600, 10)\n"
     ]
    }
   ],
   "source": [
    "print(X_train.shape)\n",
    "print(y_train.shape)"
   ]
  },
  {
   "cell_type": "markdown",
   "id": "graphic-technique",
   "metadata": {},
   "source": [
    "___"
   ]
  },
  {
   "cell_type": "markdown",
   "id": "relevant-queensland",
   "metadata": {},
   "source": [
    "# Start training"
   ]
  },
  {
   "cell_type": "code",
   "execution_count": 119,
   "id": "structural-colleague",
   "metadata": {},
   "outputs": [],
   "source": [
    "from keras.layers import Dense\n",
    "from keras.models import Sequential\n",
    "from keras.callbacks import EarlyStopping"
   ]
  },
  {
   "cell_type": "code",
   "execution_count": 196,
   "id": "unnecessary-invitation",
   "metadata": {},
   "outputs": [
    {
     "name": "stdout",
     "output_type": "stream",
     "text": [
      "Train on 1120 samples, validate on 480 samples\n",
      "Epoch 1/20\n",
      "1120/1120 [==============================] - 0s 149us/step - loss: 22.6325 - accuracy: 0.5420 - val_loss: 7.6986 - val_accuracy: 0.7375\n",
      "Epoch 2/20\n",
      "1120/1120 [==============================] - 0s 62us/step - loss: 3.2325 - accuracy: 0.8304 - val_loss: 5.2653 - val_accuracy: 0.7729\n",
      "Epoch 3/20\n",
      "1120/1120 [==============================] - 0s 76us/step - loss: 1.2135 - accuracy: 0.9107 - val_loss: 4.9672 - val_accuracy: 0.8250\n",
      "Epoch 4/20\n",
      "1120/1120 [==============================] - 0s 76us/step - loss: 0.5713 - accuracy: 0.9482 - val_loss: 4.1610 - val_accuracy: 0.8479\n",
      "Epoch 5/20\n",
      "1120/1120 [==============================] - 0s 62us/step - loss: 0.2098 - accuracy: 0.9795 - val_loss: 3.6587 - val_accuracy: 0.8500\n",
      "Epoch 6/20\n",
      "1120/1120 [==============================] - 0s 84us/step - loss: 0.1230 - accuracy: 0.9777 - val_loss: 3.7448 - val_accuracy: 0.8438\n",
      "Epoch 7/20\n",
      "1120/1120 [==============================] - 0s 76us/step - loss: 0.1281 - accuracy: 0.9830 - val_loss: 4.0171 - val_accuracy: 0.8500\n",
      "Epoch 8/20\n",
      "1120/1120 [==============================] - 0s 90us/step - loss: 0.0643 - accuracy: 0.9902 - val_loss: 3.9607 - val_accuracy: 0.8438\n"
     ]
    },
    {
     "data": {
      "text/plain": [
       "<keras.callbacks.callbacks.History at 0x1a7b3405d88>"
      ]
     },
     "execution_count": 196,
     "metadata": {},
     "output_type": "execute_result"
    }
   ],
   "source": [
    "# Create the model: model\n",
    "model = Sequential()\n",
    "\n",
    "# Add the first hidden layer\n",
    "model.add(Dense(160, activation = 'relu', input_shape = (784,)))\n",
    "\n",
    "# Add the second hidden layer\n",
    "model.add(Dense(100, activation = 'relu'))\n",
    "\n",
    "# Add the third hidden layer\n",
    "#model.add(Dense(50, activation = 'relu'))\n",
    "\n",
    "# Add the output layer\n",
    "model.add(Dense(10, activation = 'softmax'))\n",
    "\n",
    "# Compile the model\n",
    "model.compile(optimizer = 'adam', loss = 'categorical_crossentropy', metrics = ['accuracy'])\n",
    "\n",
    "# Set up Early Stopping Monitor\n",
    "early_stopping_monitor = EarlyStopping(patience = 3)\n",
    "\n",
    "# Fit the model\n",
    "model.fit(X_train, y_train, validation_split = 0.3, epochs = 20, callbacks = [early_stopping_monitor])"
   ]
  },
  {
   "cell_type": "markdown",
   "id": "silent-jersey",
   "metadata": {},
   "source": [
    "### Save the model"
   ]
  },
  {
   "cell_type": "code",
   "execution_count": 197,
   "id": "killing-place",
   "metadata": {},
   "outputs": [],
   "source": [
    "from keras.models import load_model\n",
    "model.save('Saved_Model/Handwritten_digit_classification.h5')"
   ]
  },
  {
   "cell_type": "markdown",
   "id": "consolidated-cherry",
   "metadata": {},
   "source": [
    "### Reload the model"
   ]
  },
  {
   "cell_type": "code",
   "execution_count": 198,
   "id": "simple-relevance",
   "metadata": {},
   "outputs": [],
   "source": [
    "my_model = load_model('Saved_Model/Handwritten_digit_classification.h5')"
   ]
  },
  {
   "cell_type": "code",
   "execution_count": 199,
   "id": "transsexual-shoot",
   "metadata": {},
   "outputs": [
    {
     "name": "stdout",
     "output_type": "stream",
     "text": [
      "Model: \"sequential_19\"\n",
      "_________________________________________________________________\n",
      "Layer (type)                 Output Shape              Param #   \n",
      "=================================================================\n",
      "dense_56 (Dense)             (None, 160)               125600    \n",
      "_________________________________________________________________\n",
      "dense_57 (Dense)             (None, 100)               16100     \n",
      "_________________________________________________________________\n",
      "dense_58 (Dense)             (None, 10)                1010      \n",
      "=================================================================\n",
      "Total params: 142,710\n",
      "Trainable params: 142,710\n",
      "Non-trainable params: 0\n",
      "_________________________________________________________________\n"
     ]
    }
   ],
   "source": [
    "my_model.summary()"
   ]
  },
  {
   "cell_type": "markdown",
   "id": "chicken-isolation",
   "metadata": {},
   "source": [
    "### Prediction"
   ]
  },
  {
   "cell_type": "code",
   "execution_count": 200,
   "id": "green-prize",
   "metadata": {},
   "outputs": [
    {
     "data": {
      "text/plain": [
       "array([6, 0, 3, 2, 0, 2, 8, 9, 1, 0, 9, 0, 8, 3, 9, 6, 4, 7, 4, 3, 1, 3,\n",
       "       9, 8, 5, 1, 6, 0, 0, 4, 5, 3, 8, 0, 9, 0, 5, 0, 0, 1, 4, 0, 4, 5,\n",
       "       5, 8, 7, 5, 6, 9, 6, 6, 1, 7, 4, 5, 9, 5, 7, 2, 8, 8, 4, 0, 5, 6,\n",
       "       6, 6, 9, 6, 3, 9, 1, 9, 0, 7, 7, 9, 8, 1, 7, 2, 0, 0, 8, 1, 0, 6,\n",
       "       4, 6, 8, 2, 0, 3, 0, 7, 6, 6, 3, 9, 9, 0, 0, 6, 6, 5, 8, 3, 9, 4,\n",
       "       9, 7, 2, 9, 3, 2, 8, 5, 8, 8, 3, 0, 0, 9, 7, 6, 1, 8, 4, 0, 5, 9,\n",
       "       4, 0, 5, 5, 8, 6, 6, 8, 9, 1, 2, 1, 8, 2, 7, 0, 4, 8, 2, 6, 0, 9,\n",
       "       5, 1, 5, 3, 9, 9, 8, 5, 3, 1, 8, 7, 9, 5, 6, 2, 8, 2, 6, 6, 2, 2,\n",
       "       7, 5, 8, 4, 6, 6, 1, 0, 4, 1, 9, 0, 8, 2, 7, 4, 6, 3, 1, 7, 5, 7,\n",
       "       4, 4, 7, 8, 7, 2, 6, 5, 8, 5, 0, 8, 6, 9, 9, 2, 3, 3, 6, 5, 1, 8,\n",
       "       4, 0, 6, 3, 9, 7, 5, 5, 7, 0, 7, 9, 0, 0, 5, 4, 0, 7, 6, 9, 6, 6,\n",
       "       1, 7, 0, 1, 4, 1, 7, 8, 8, 2, 9, 8, 6, 8, 9, 2, 6, 5, 8, 6, 7, 5,\n",
       "       1, 8, 9, 1, 4, 1, 7, 6, 3, 2, 1, 7, 0, 1, 3, 1, 7, 1, 9, 9, 2, 5,\n",
       "       6, 6, 7, 1, 8, 6, 5, 3, 8, 4, 9, 1, 9, 2, 0, 6, 7, 5, 1, 8, 4, 2,\n",
       "       2, 6, 2, 1, 0, 9, 8, 0, 6, 3, 6, 3, 3, 8, 5, 7, 2, 1, 0, 0, 4, 1,\n",
       "       6, 1, 0, 1, 1, 2, 9, 8, 6, 8, 3, 7, 9, 8, 3, 1, 2, 6, 5, 3, 9, 1,\n",
       "       9, 9, 6, 6, 7, 3, 0, 9, 2, 1, 1, 9, 0, 4, 2, 0, 7, 7, 6, 0, 1, 6,\n",
       "       3, 8, 1, 1, 8, 9, 2, 0, 7, 4, 3, 2, 1, 7, 8, 3, 8, 6, 7, 9, 8, 4,\n",
       "       7, 1, 6, 0, 9], dtype=int64)"
      ]
     },
     "execution_count": 200,
     "metadata": {},
     "output_type": "execute_result"
    }
   ],
   "source": [
    "classified_digits = my_model.predict_classes(X_test)\n",
    "classified_digits"
   ]
  },
  {
   "cell_type": "code",
   "execution_count": 201,
   "id": "simplified-kansas",
   "metadata": {},
   "outputs": [
    {
     "data": {
      "text/plain": [
       "array([[0., 0., 0., ..., 0., 0., 0.],\n",
       "       [1., 0., 0., ..., 0., 0., 0.],\n",
       "       [0., 0., 0., ..., 0., 0., 0.],\n",
       "       ...,\n",
       "       [0., 0., 0., ..., 0., 0., 0.],\n",
       "       [1., 0., 0., ..., 0., 0., 0.],\n",
       "       [0., 0., 0., ..., 0., 0., 1.]])"
      ]
     },
     "execution_count": 201,
     "metadata": {},
     "output_type": "execute_result"
    }
   ],
   "source": [
    "y_pred = dummies(10, classified_digits)\n",
    "y_pred"
   ]
  },
  {
   "cell_type": "code",
   "execution_count": 202,
   "id": "regulation-spanish",
   "metadata": {},
   "outputs": [
    {
     "name": "stdout",
     "output_type": "stream",
     "text": [
      "331.0\n"
     ]
    }
   ],
   "source": [
    "number_correct = (y_pred*y_test).sum()\n",
    "print(number_correct)"
   ]
  },
  {
   "cell_type": "code",
   "execution_count": 211,
   "id": "toxic-origin",
   "metadata": {},
   "outputs": [
    {
     "name": "stdout",
     "output_type": "stream",
     "text": [
      "The prediction accuracy of the handwritten-digit recognition model is 82.544%\n"
     ]
    }
   ],
   "source": [
    "accuracy = number_correct/len(y_pred)\n",
    "print(\"The prediction accuracy of the handwritten-digit recognition model is \" + str(round(accuracy*100, 3)) + \"%\")"
   ]
  },
  {
   "cell_type": "code",
   "execution_count": null,
   "id": "right-instruction",
   "metadata": {},
   "outputs": [],
   "source": []
  }
 ],
 "metadata": {
  "kernelspec": {
   "display_name": "Python 3",
   "language": "python",
   "name": "python3"
  },
  "language_info": {
   "codemirror_mode": {
    "name": "ipython",
    "version": 3
   },
   "file_extension": ".py",
   "mimetype": "text/x-python",
   "name": "python",
   "nbconvert_exporter": "python",
   "pygments_lexer": "ipython3",
   "version": "3.7.9"
  }
 },
 "nbformat": 4,
 "nbformat_minor": 5
}
